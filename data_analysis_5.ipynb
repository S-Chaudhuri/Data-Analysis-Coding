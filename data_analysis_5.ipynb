{
 "cells": [
  {
   "cell_type": "markdown",
   "metadata": {},
   "source": [
    "Code 1"
   ]
  },
  {
   "cell_type": "code",
   "execution_count": 38,
   "metadata": {},
   "outputs": [
    {
     "name": "stdout",
     "output_type": "stream",
     "text": [
      "0    1\n",
      "1    2\n",
      "2    3\n",
      "3    4\n",
      "dtype: int64\n"
     ]
    }
   ],
   "source": [
    "import pandas as pd\n",
    "\n",
    "s =  pd.Series([1,2,3,4])\n",
    "print(s)"
   ]
  },
  {
   "cell_type": "markdown",
   "metadata": {},
   "source": [
    "Code 2"
   ]
  },
  {
   "cell_type": "code",
   "execution_count": 5,
   "metadata": {},
   "outputs": [
    {
     "name": "stdout",
     "output_type": "stream",
     "text": [
      "0    1\n",
      "1    2\n",
      "2    3\n",
      "3    4\n",
      "dtype: int64\n",
      "<class 'pandas.core.series.Series'>\n",
      "[1, 2, 3, 4]\n",
      "<class 'list'>\n"
     ]
    }
   ],
   "source": [
    "c = pd.Series([1,2,3,4])\n",
    "print(c)\n",
    "print(type(c))\n",
    "print(c.tolist())\n",
    "print(type(c.tolist()))"
   ]
  },
  {
   "cell_type": "markdown",
   "metadata": {},
   "source": [
    "Code 3"
   ]
  },
  {
   "cell_type": "code",
   "execution_count": 6,
   "metadata": {},
   "outputs": [
    {
     "name": "stdout",
     "output_type": "stream",
     "text": [
      "sum 0     5\n",
      "1     7\n",
      "2     9\n",
      "3    11\n",
      "dtype: int64 sub 0   -3\n",
      "1   -3\n",
      "2   -3\n",
      "3   -3\n",
      "dtype: int64 mult 0     4\n",
      "1    10\n",
      "2    18\n",
      "3    28\n",
      "dtype: int64 div 0    0.250000\n",
      "1    0.400000\n",
      "2    0.500000\n",
      "3    0.571429\n",
      "dtype: float64\n"
     ]
    }
   ],
   "source": [
    "q  = pd.Series([1,2,3,4])\n",
    "p = pd.Series([4,5,6,7])\n",
    "a = q+p\n",
    "b = q-p\n",
    "c = q*p\n",
    "d = q/p\n",
    "print(\"sum\",a,\"sub\",b,\"mult\",c,\"div\",d)"
   ]
  },
  {
   "cell_type": "markdown",
   "metadata": {},
   "source": [
    "Code 4"
   ]
  },
  {
   "cell_type": "code",
   "execution_count": 8,
   "metadata": {},
   "outputs": [
    {
     "name": "stdout",
     "output_type": "stream",
     "text": [
      "0    False\n",
      "1    False\n",
      "2    False\n",
      "3    False\n",
      "4    False\n",
      "dtype: bool\n",
      "0    False\n",
      "1    False\n",
      "2    False\n",
      "3    False\n",
      "4    False\n",
      "dtype: bool\n",
      "0    True\n",
      "1    True\n",
      "2    True\n",
      "3    True\n",
      "4    True\n",
      "dtype: bool\n"
     ]
    }
   ],
   "source": [
    "q  = pd.Series([2,3,4,5,6])\n",
    "r = pd.Series([4,8,7,6,8])\n",
    "print(q==r)\n",
    "print(q>r)\n",
    "print(r>q)"
   ]
  },
  {
   "cell_type": "markdown",
   "metadata": {},
   "source": [
    "Code 5"
   ]
  },
  {
   "cell_type": "code",
   "execution_count": 9,
   "metadata": {},
   "outputs": [
    {
     "name": "stdout",
     "output_type": "stream",
     "text": [
      "a    1\n",
      "b    2\n",
      "c    3\n",
      "d    4\n",
      "dtype: int64\n"
     ]
    }
   ],
   "source": [
    "d = {\"a\":1,\"b\":2,\"c\":3,\"d\":4}\n",
    "a = pd.Series(d)\n",
    "print(a)"
   ]
  },
  {
   "cell_type": "markdown",
   "metadata": {},
   "source": [
    "Code 6"
   ]
  },
  {
   "cell_type": "code",
   "execution_count": 10,
   "metadata": {},
   "outputs": [
    {
     "name": "stdout",
     "output_type": "stream",
     "text": [
      "0     1\n",
      "1     2\n",
      "2     3\n",
      "3    45\n",
      "dtype: int32\n"
     ]
    }
   ],
   "source": [
    "import numpy as np\n",
    "b = np.array([1,2,3,45])\n",
    "c  = pd.Series(b)\n",
    "print(c)"
   ]
  },
  {
   "cell_type": "markdown",
   "metadata": {},
   "source": [
    "Code 7"
   ]
  },
  {
   "cell_type": "code",
   "execution_count": 12,
   "metadata": {},
   "outputs": [
    {
     "name": "stdout",
     "output_type": "stream",
     "text": [
      "0      1.0\n",
      "1    234.0\n",
      "2     32.0\n",
      "3    432.0\n",
      "4      NaN\n",
      "5     76.0\n",
      "dtype: float64\n"
     ]
    }
   ],
   "source": [
    "s  = pd.Series(['1','234','32','432','hello','76'])\n",
    "f  = pd.to_numeric(s,errors='coerce')\n",
    "print(f)"
   ]
  },
  {
   "cell_type": "markdown",
   "metadata": {},
   "source": [
    "Code 8"
   ]
  },
  {
   "cell_type": "code",
   "execution_count": 18,
   "metadata": {},
   "outputs": [
    {
     "name": "stdout",
     "output_type": "stream",
     "text": [
      "0    1\n",
      "1    2\n",
      "2    3\n",
      "3    4\n",
      "Name: col1, dtype: int64\n"
     ]
    }
   ],
   "source": [
    "p ={\"col1\":[1,2,3,4],\"col2\":[5,6,7,8],\"col3\":[9,10,11,12]}\n",
    "w = pd.DataFrame(data=p)\n",
    "q = w.iloc[:,0]\n",
    "print(q)"
   ]
  },
  {
   "cell_type": "markdown",
   "metadata": {},
   "source": [
    "Code 9"
   ]
  },
  {
   "cell_type": "code",
   "execution_count": 19,
   "metadata": {},
   "outputs": [
    {
     "name": "stdout",
     "output_type": "stream",
     "text": [
      "[ 3 45 32 67 54]\n"
     ]
    }
   ],
   "source": [
    "f = pd.Series([3,45,32,67,54])\n",
    "g = np.array(f.values.tolist())\n",
    "print(g)"
   ]
  },
  {
   "cell_type": "markdown",
   "metadata": {},
   "source": [
    "Code 10"
   ]
  },
  {
   "cell_type": "code",
   "execution_count": 21,
   "metadata": {},
   "outputs": [
    {
     "name": "stdout",
     "output_type": "stream",
     "text": [
      "0       Red\n",
      "1     Green\n",
      "2     White\n",
      "3       Red\n",
      "4     Black\n",
      "5    Yellow\n",
      "dtype: object\n"
     ]
    }
   ],
   "source": [
    "h = pd.Series([\n",
    "    ['Red','Green','White'],\n",
    "    ['Red','Black'],\n",
    "    ['Yellow']\n",
    "])\n",
    "h=h.apply(pd.Series).stack().reset_index(drop=True)\n",
    "print(h)\n"
   ]
  },
  {
   "cell_type": "markdown",
   "metadata": {},
   "source": [
    "Code 11"
   ]
  },
  {
   "cell_type": "code",
   "execution_count": 25,
   "metadata": {},
   "outputs": [
    {
     "name": "stdout",
     "output_type": "stream",
     "text": [
      "0        1\n",
      "4      100\n",
      "1        3\n",
      "2     4.54\n",
      "5      400\n",
      "3    hello\n",
      "dtype: object\n"
     ]
    }
   ],
   "source": [
    "s = pd.Series(['1','3','4.54','hello','100','400'])\n",
    "u = pd.Series(s).sort_values()\n",
    "print(u)"
   ]
  },
  {
   "cell_type": "markdown",
   "metadata": {},
   "source": [
    "Code 12"
   ]
  },
  {
   "cell_type": "code",
   "execution_count": 31,
   "metadata": {},
   "outputs": [
    {
     "name": "stdout",
     "output_type": "stream",
     "text": [
      "0        1\n",
      "1        3\n",
      "2     4.54\n",
      "3    hello\n",
      "4      100\n",
      "5      400\n",
      "6      500\n",
      "7    world\n",
      "dtype: object\n"
     ]
    }
   ],
   "source": [
    "s = pd.Series(['1','3','4.54','hello','100','400'])\n",
    "s = pd.concat([s,pd.Series(['500','world'])]).reset_index(drop=True)\n",
    "print(s)"
   ]
  },
  {
   "cell_type": "markdown",
   "metadata": {},
   "source": [
    "Code 13"
   ]
  },
  {
   "cell_type": "code",
   "execution_count": 32,
   "metadata": {},
   "outputs": [
    {
     "name": "stdout",
     "output_type": "stream",
     "text": [
      "6      45.0\n",
      "7      34.0\n",
      "8     789.0\n",
      "9     321.6\n",
      "10    999.0\n",
      "dtype: float64\n"
     ]
    }
   ],
   "source": [
    "d =pd.Series([1,2,3,4,6,7,45,34,789,321.6,999,0])\n",
    "g = 8\n",
    "v = d[d>g]\n",
    "print(v)"
   ]
  },
  {
   "cell_type": "markdown",
   "metadata": {},
   "source": [
    "Code 14"
   ]
  },
  {
   "cell_type": "code",
   "execution_count": 37,
   "metadata": {},
   "outputs": [
    {
     "name": "stdout",
     "output_type": "stream",
     "text": [
      "T    5\n",
      "E    3\n",
      "W    2\n",
      "R    4\n",
      "Q    1\n",
      "dtype: int64\n"
     ]
    }
   ],
   "source": [
    "d = pd.Series(data=[1,2,3,4,5], index=['Q','W','E','R','T'])\n",
    "d = d.reindex(index= ['T','E','W','R','Q'])\n",
    "print(d)"
   ]
  }
 ],
 "metadata": {
  "interpreter": {
   "hash": "ce3cc6c356b8b753fe3e3b53872a5d3b9176b98da39fe309461d2bac3e781f67"
  },
  "kernelspec": {
   "display_name": "Python 3.10.4 64-bit (windows store)",
   "language": "python",
   "name": "python3"
  },
  "language_info": {
   "codemirror_mode": {
    "name": "ipython",
    "version": 3
   },
   "file_extension": ".py",
   "mimetype": "text/x-python",
   "name": "python",
   "nbconvert_exporter": "python",
   "pygments_lexer": "ipython3",
   "version": "3.10.4"
  },
  "orig_nbformat": 4
 },
 "nbformat": 4,
 "nbformat_minor": 2
}
