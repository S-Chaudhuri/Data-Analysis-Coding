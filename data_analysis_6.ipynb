{
 "cells": [
  {
   "cell_type": "markdown",
   "metadata": {},
   "source": [
    "Code 1"
   ]
  },
  {
   "cell_type": "code",
   "execution_count": 1,
   "metadata": {},
   "outputs": [
    {
     "name": "stdout",
     "output_type": "stream",
     "text": [
      "          one  two  three  four\n",
      "Ohio        0    1      2     3\n",
      "Colorado    4    5      6     7\n",
      "New York    8    9     10    11\n"
     ]
    }
   ],
   "source": [
    "import pandas as pd\n",
    "a = {\"one\":[0,4,8],\"two\":[1,5,9],\"three\":[2,6,10],\"four\":[3,7,11]}\n",
    "b = pd.DataFrame(data= a,index = [\"Ohio\",\"Colorado\",\"New York\"])\n",
    "print(b)"
   ]
  },
  {
   "cell_type": "markdown",
   "metadata": {},
   "source": [
    "Code 2"
   ]
  },
  {
   "cell_type": "code",
   "execution_count": 2,
   "metadata": {},
   "outputs": [
    {
     "name": "stdout",
     "output_type": "stream",
     "text": [
      "          one  two  three  four  five\n",
      "Ohio        0    1      2     3    12\n",
      "Colorado    4    5      6     7    13\n",
      "New York    8    9     10    11    14\n"
     ]
    }
   ],
   "source": [
    "c = pd.DataFrame(data={\"five\":[12,13,14]},index=[\"Ohio\",\"Colorado\",\"New York\"])\n",
    "#b = pd.concat([b,c],axis=1)\n",
    "b= b.join(c)\n",
    "print(b)"
   ]
  },
  {
   "cell_type": "markdown",
   "metadata": {},
   "source": [
    "Code 3"
   ]
  },
  {
   "cell_type": "code",
   "execution_count": 3,
   "metadata": {},
   "outputs": [
    {
     "name": "stdout",
     "output_type": "stream",
     "text": [
      "          one  two  three  four  five\n",
      "Ohio        0    1      2     3    12\n",
      "Colorado    4    5      6     7    13\n"
     ]
    }
   ],
   "source": [
    "DF3 = b.drop(\"New York\")\n",
    "print(DF3)"
   ]
  },
  {
   "cell_type": "markdown",
   "metadata": {},
   "source": [
    "Code 4"
   ]
  },
  {
   "cell_type": "code",
   "execution_count": 43,
   "metadata": {},
   "outputs": [
    {
     "name": "stdout",
     "output_type": "stream",
     "text": [
      "one      1\n",
      "two      2\n",
      "three    3\n",
      "four     4\n",
      "five     5\n",
      "six      6\n",
      "seven    7\n",
      "eight    8\n",
      "nine     9\n",
      "dtype: int64\n"
     ]
    }
   ],
   "source": [
    "e = pd.Series(data=[1,2,3,4,5,6,7,8,9],index=[\"one\",\"two\",\"three\",\"four\",\"five\",\"six\",\"seven\",\"eight\",\"nine\"])\n",
    "print(e)"
   ]
  },
  {
   "cell_type": "markdown",
   "metadata": {},
   "source": [
    "Code 5"
   ]
  },
  {
   "cell_type": "code",
   "execution_count": 44,
   "metadata": {},
   "outputs": [
    {
     "name": "stdout",
     "output_type": "stream",
     "text": [
      "          eight  five  four  nine  one  seven  six     three  two\n",
      "Ohio        NaN   2.4  0.75   NaN  0.0    NaN  NaN  0.666667  0.5\n",
      "Colorado    NaN   2.6  1.75   NaN  4.0    NaN  NaN  2.000000  2.5\n",
      "New York    NaN   2.8  2.75   NaN  8.0    NaN  NaN  3.333333  4.5\n"
     ]
    }
   ],
   "source": [
    "r = b/e\n",
    "print(r)"
   ]
  },
  {
   "cell_type": "markdown",
   "metadata": {},
   "source": [
    "Code 6"
   ]
  },
  {
   "cell_type": "code",
   "execution_count": 45,
   "metadata": {},
   "outputs": [
    {
     "data": {
      "text/html": [
       "<div>\n",
       "<style scoped>\n",
       "    .dataframe tbody tr th:only-of-type {\n",
       "        vertical-align: middle;\n",
       "    }\n",
       "\n",
       "    .dataframe tbody tr th {\n",
       "        vertical-align: top;\n",
       "    }\n",
       "\n",
       "    .dataframe thead th {\n",
       "        text-align: right;\n",
       "    }\n",
       "</style>\n",
       "<table border=\"1\" class=\"dataframe\">\n",
       "  <thead>\n",
       "    <tr style=\"text-align: right;\">\n",
       "      <th></th>\n",
       "      <th>eight</th>\n",
       "      <th>five</th>\n",
       "      <th>four</th>\n",
       "      <th>nine</th>\n",
       "      <th>one</th>\n",
       "      <th>seven</th>\n",
       "      <th>six</th>\n",
       "      <th>three</th>\n",
       "      <th>two</th>\n",
       "    </tr>\n",
       "  </thead>\n",
       "  <tbody>\n",
       "    <tr>\n",
       "      <th>Ohio</th>\n",
       "      <td>True</td>\n",
       "      <td>False</td>\n",
       "      <td>False</td>\n",
       "      <td>True</td>\n",
       "      <td>False</td>\n",
       "      <td>True</td>\n",
       "      <td>True</td>\n",
       "      <td>False</td>\n",
       "      <td>False</td>\n",
       "    </tr>\n",
       "    <tr>\n",
       "      <th>Colorado</th>\n",
       "      <td>True</td>\n",
       "      <td>False</td>\n",
       "      <td>False</td>\n",
       "      <td>True</td>\n",
       "      <td>False</td>\n",
       "      <td>True</td>\n",
       "      <td>True</td>\n",
       "      <td>False</td>\n",
       "      <td>False</td>\n",
       "    </tr>\n",
       "    <tr>\n",
       "      <th>New York</th>\n",
       "      <td>True</td>\n",
       "      <td>False</td>\n",
       "      <td>False</td>\n",
       "      <td>True</td>\n",
       "      <td>False</td>\n",
       "      <td>True</td>\n",
       "      <td>True</td>\n",
       "      <td>False</td>\n",
       "      <td>False</td>\n",
       "    </tr>\n",
       "  </tbody>\n",
       "</table>\n",
       "</div>"
      ],
      "text/plain": [
       "          eight   five   four  nine    one  seven   six  three    two\n",
       "Ohio       True  False  False  True  False   True  True  False  False\n",
       "Colorado   True  False  False  True  False   True  True  False  False\n",
       "New York   True  False  False  True  False   True  True  False  False"
      ]
     },
     "execution_count": 45,
     "metadata": {},
     "output_type": "execute_result"
    }
   ],
   "source": [
    "r.isnull()"
   ]
  },
  {
   "cell_type": "code",
   "execution_count": 48,
   "metadata": {},
   "outputs": [
    {
     "name": "stdout",
     "output_type": "stream",
     "text": [
      "          eight  five  four  nine  one  seven  six     three  two\n",
      "Ohio        NaN   2.4  0.75   NaN  0.0    NaN  1.0  0.666667  0.5\n",
      "Colorado    NaN   2.6  1.75   NaN  4.0    NaN  1.0  2.000000  2.5\n",
      "New York    NaN   2.8  2.75   NaN  8.0    NaN  1.0  3.333333  4.5\n"
     ]
    }
   ],
   "source": [
    "r[\"six\"].fillna(1,inplace=True)\n",
    "print(r)"
   ]
  },
  {
   "cell_type": "markdown",
   "metadata": {},
   "source": [
    "Code 7"
   ]
  },
  {
   "cell_type": "code",
   "execution_count": 53,
   "metadata": {},
   "outputs": [
    {
     "name": "stdout",
     "output_type": "stream",
     "text": [
      "first  sub one      1\n",
      "       sub two      2\n",
      "Third  sub three    3\n",
      "       sub four     4\n",
      "dtype: int64\n"
     ]
    }
   ],
   "source": [
    "s = pd.Series(data = [1,2,3,4],index=[[\"first\",\"first\",\"Third\",\"Third\"],[\"sub one\",\"sub two\",\"sub three\",\"sub four\"]])\n",
    "print(s)"
   ]
  },
  {
   "cell_type": "markdown",
   "metadata": {},
   "source": [
    "Code 8"
   ]
  },
  {
   "cell_type": "code",
   "execution_count": 8,
   "metadata": {},
   "outputs": [
    {
     "name": "stdout",
     "output_type": "stream",
     "text": [
      "Ohio      one       0\n",
      "          two       1\n",
      "          three     2\n",
      "          four      3\n",
      "          five     12\n",
      "Colorado  one       4\n",
      "          two       5\n",
      "          three     6\n",
      "          four      7\n",
      "          five     13\n",
      "New York  one       8\n",
      "          two       9\n",
      "          three    10\n",
      "          four     11\n",
      "          five     14\n",
      "dtype: int64\n",
      "<class 'pandas.core.series.Series'>\n"
     ]
    }
   ],
   "source": [
    "v = b.stack()\n",
    "m = v.squeeze(axis= 0 )\n",
    "print(m)\n",
    "print(type(m))"
   ]
  }
 ],
 "metadata": {
  "interpreter": {
   "hash": "60eb1d0f96393a1e0420bb6ca0f5435a81d9c3ff4319ce3c90a222065ab89d85"
  },
  "kernelspec": {
   "display_name": "Python 3.7.9 64-bit",
   "language": "python",
   "name": "python3"
  },
  "language_info": {
   "codemirror_mode": {
    "name": "ipython",
    "version": 3
   },
   "file_extension": ".py",
   "mimetype": "text/x-python",
   "name": "python",
   "nbconvert_exporter": "python",
   "pygments_lexer": "ipython3",
   "version": "3.9.7"
  },
  "orig_nbformat": 4
 },
 "nbformat": 4,
 "nbformat_minor": 2
}
